{
 "cells": [
  {
   "cell_type": "markdown",
   "id": "854d3c24",
   "metadata": {},
   "source": [
    "# Project Milestone 1 - GABUYA"
   ]
  },
  {
   "cell_type": "markdown",
   "id": "b47e8822",
   "metadata": {},
   "source": [
    "# Question 1: \n",
    "Given Price=300, use python to figure out the square root of the price"
   ]
  },
  {
   "cell_type": "code",
   "execution_count": 2,
   "id": "075a249d",
   "metadata": {},
   "outputs": [
    {
     "name": "stdout",
     "output_type": "stream",
     "text": [
      "17.320508075688775\n"
     ]
    }
   ],
   "source": [
    "given_price = 300\n",
    "SQRT = given_price ** 0.5\n",
    "print(SQRT)"
   ]
  },
  {
   "cell_type": "markdown",
   "id": "487b188d",
   "metadata": {},
   "source": [
    "# Question 2:\n",
    "Given the String: Stock_index=\"SP500\", Grab 500 from the string using indexing and also show its indices"
   ]
  },
  {
   "cell_type": "code",
   "execution_count": 1,
   "id": "b506ee21",
   "metadata": {},
   "outputs": [
    {
     "data": {
      "text/plain": [
       "'500'"
      ]
     },
     "execution_count": 1,
     "metadata": {},
     "output_type": "execute_result"
    }
   ],
   "source": [
    "# Question 2: Given the String: Stock_index=\"SP500\", Grab 500 from the \n",
    "# string using indexing and also show its indices\n",
    "\n",
    "Stock_index=\"SP500\"\n",
    "Stock_index[2:]"
   ]
  },
  {
   "cell_type": "code",
   "execution_count": 36,
   "id": "8bc12d62",
   "metadata": {},
   "outputs": [
    {
     "name": "stdout",
     "output_type": "stream",
     "text": [
      "{'S': [0], 'P': [1], '5': [2], '0': [3, 4]}\n"
     ]
    }
   ],
   "source": [
    "Stock_index=\"SP500\"\n",
    "index1 = {x : [] for x in Stock_index}\n",
    "for i,x in enumerate(Stock_index):\n",
    "    index1[x].append(i)      \n",
    "print(index1)"
   ]
  },
  {
   "cell_type": "markdown",
   "id": "e56e8412",
   "metadata": {},
   "source": [
    "# Question 3: \n",
    "Given the variables: stock_index=\"SP500\" and price=300. Use .format() to print the following string: \"The SP500 is at 300 today\""
   ]
  },
  {
   "cell_type": "code",
   "execution_count": 3,
   "id": "169872e5",
   "metadata": {},
   "outputs": [
    {
     "name": "stdout",
     "output_type": "stream",
     "text": [
      "The SP500 is at 300 today\n"
     ]
    }
   ],
   "source": [
    "my_string = \"The {} is at {} today\"\n",
    "print(my_string.format(Stock_index,given_price))\n"
   ]
  },
  {
   "cell_type": "markdown",
   "id": "edaef495",
   "metadata": {},
   "source": [
    "# Question 4\n",
    "Use indexing and key calls to print the ones as shown below\n",
    "\n",
    "stock_info = {'reliance': {'today': 300, 'yesterday': 250}, \n",
    "              'info': ['Time', [24, 7, 365]]}\n",
    "\n",
    "Expected  Output 1:  Yesterday’s reliance share  price was 250 pesos per share <br>\n",
    "Expected  Output 2:  The number 365 is nested inside a list nested inside the ‘info’ key"
   ]
  },
  {
   "cell_type": "code",
   "execution_count": 4,
   "id": "b0afb2b3",
   "metadata": {},
   "outputs": [
    {
     "name": "stdout",
     "output_type": "stream",
     "text": [
      "Yesterday's reliance share price was 250 pesos per share.\n",
      "The number 365 is nested inside a list nested inside the 'info' key\n"
     ]
    }
   ],
   "source": [
    "stock_info = {'reliance': {'today': 300, 'yesterday': 250}, \n",
    "              'info': ['Time', [24, 7, 365]]}\n",
    "\n",
    "yesterday_price = stock_info['reliance']['yesterday']\n",
    "print(\"Yesterday's reliance share price was\", yesterday_price, \"pesos per share.\")\n",
    "\n",
    "number = stock_info['info'][1][2]\n",
    "print(\"The number\" ,number, \"is nested inside a list nested inside the 'info' key\")"
   ]
  },
  {
   "cell_type": "markdown",
   "id": "30fbf7dd",
   "metadata": {},
   "source": [
    "# Question 5: \n",
    "\n",
    "Create a function called price-finder that returns True if the word ‘price’ is in the string:\n",
    "Your definition must accept different types of inputs as shown below:\n",
    "\n",
    "Input 1= “PRICE of 1 litre petrol is 45 pesos” <br>\n",
    "Input 2= “(PRICE) of 1 litre petrol is 45 pesos” <br>\n",
    "Input 3= “PrIcE of 1 litre petrol is 45 pesos” <br>\n",
    "Input 4= “1 litre petrol price is 45 pesos”<br>\n",
    "Input 5 = “ cost of 1 litre is 54 pesos”"
   ]
  },
  {
   "cell_type": "code",
   "execution_count": 5,
   "id": "fc338b21",
   "metadata": {},
   "outputs": [
    {
     "name": "stdout",
     "output_type": "stream",
     "text": [
      "Input 1: PRICE of 1 litre petrol is 45 pesos\n",
      "Input 2: (PRICE) of 1 litre petrol is 45 pesos\n",
      "Input 3: PrIcE of 1 litre petrol is 45 pesos\n",
      "Input 4: 1 litre petrol price is 45 pesos\n",
      "Input 5: cost of 1 litre is 54 pesos\n",
      "Result for Input 1: True\n",
      "Result for Input 2: True\n",
      "Result for Input 3: True\n",
      "Result for Input 4: True\n",
      "Result for Input 5: False\n"
     ]
    }
   ],
   "source": [
    "def price_finder(string):\n",
    "  if \"price\" in string.lower():\n",
    "    return True\n",
    "  else:\n",
    "    return False\n",
    "\n",
    "input_strings = [input(\"Input {}: \".format(i+1)) for i in range(5)]\n",
    "for i, input_string in enumerate(input_strings):\n",
    "  print(\"Result for Input {}: {}\".format(i+1, price_finder(input_string)))"
   ]
  },
  {
   "cell_type": "markdown",
   "id": "68aabd73",
   "metadata": {},
   "source": [
    "# Question 6\n",
    "\n",
    "Write a function check_password that returns True if the input password satisfies the following criteria:\n",
    "•\tat least 8 characters in length <br>\n",
    "•\tcontains at least one lowercase letter<br>\n",
    "•\tcontains at least one uppercase letter<br>\n",
    "•\tcontains at least one number<br>\n",
    "•\tcontains “#” symbol<br>\n",
    "\n",
    "It should return False if at least one of the criteria is not satisfied.<br>\n",
    "Use the following inputs to show the results:<br>\n",
    "Input1 = “Bayan1#34”<br>\n",
    "Input2 = “academy@”<br>\n",
    "Input3 =”Madam1#”"
   ]
  },
  {
   "cell_type": "code",
   "execution_count": 6,
   "id": "3ef258e5",
   "metadata": {
    "scrolled": true
   },
   "outputs": [
    {
     "name": "stdout",
     "output_type": "stream",
     "text": [
      "True\n",
      "False\n",
      "False\n"
     ]
    }
   ],
   "source": [
    "def check_password(password):\n",
    "    return (\n",
    "        len(password) >= 8 and\n",
    "        any(c.islower() for c in password) and\n",
    "        any(c.isupper() for c in password) and\n",
    "        any(c.isdigit() for c in password) and\n",
    "        \"#\" in password\n",
    "    )\n",
    "\n",
    "input1 = \"Bayan1#34\"\n",
    "input2 = \"academy@\"\n",
    "input3 = \"Madam1#\"\n",
    "\n",
    "print(check_password(input1))\n",
    "print(check_password(input2))\n",
    "print(check_password(input3))"
   ]
  },
  {
   "cell_type": "markdown",
   "id": "521fe4e3",
   "metadata": {},
   "source": [
    "# Question 7\n",
    "<b>Part 1: Convert Email to Full Name\n",
    "    \n",
    "Create the function email-to-full-name(email) which accepts email as a string input parameter and returns a string \n",
    "containing the first and last name separated by a comma. All characters in the string should be uppercase."
   ]
  },
  {
   "cell_type": "code",
   "execution_count": 9,
   "id": "de2581a3",
   "metadata": {},
   "outputs": [
    {
     "name": "stdout",
     "output_type": "stream",
     "text": [
      "ACER,CRUZ\n",
      "JASON,KENDRICK\n"
     ]
    }
   ],
   "source": [
    "def email_to_full_name(email):\n",
    "    first, last = email.split(\".\")[0], email.split(\".\")[1].split(\"@\")[0]\n",
    "    return last.upper() + \",\" + first.upper()\n",
    "\n",
    "inputs1 = ['cruz.acer@mymail.bayan.edu', 'Kendrick.jason@mymail.bayan.edu']\n",
    "for email in inputs1:\n",
    "    print(email_to_full_name(email))"
   ]
  },
  {
   "cell_type": "markdown",
   "id": "86bad202",
   "metadata": {},
   "source": [
    "<b>Part 2: Calculate Average Grade\n",
    "    \n",
    "For the second part of this question, develop the function score-average(s) which accepts s as a string input parameter and returns the average of the four scores within the string as a float."
   ]
  },
  {
   "cell_type": "code",
   "execution_count": 10,
   "id": "6afa092f",
   "metadata": {
    "scrolled": true
   },
   "outputs": [
    {
     "name": "stdout",
     "output_type": "stream",
     "text": [
      "56.65\n",
      "97.1\n"
     ]
    }
   ],
   "source": [
    "# Question 7 Part 2\n",
    "#Part 2: Calculate Average Grade\n",
    "#For the second part of this question, develop the function score-average(s) which accepts s as a string input parameter \n",
    "#and returns the average of the four scores within the string as a float.\n",
    "\n",
    "def score_average(s):\n",
    "    scores = list(map(float, s.split(\",\")))\n",
    "    return sum(scores) / len(scores)\n",
    "\n",
    "inputs2 = ['0,50.4,80.3,95.9', '99.9,91.3,99.2,98.0']\n",
    "for scores in inputs2:\n",
    "    print(score_average(scores))"
   ]
  },
  {
   "cell_type": "markdown",
   "id": "41753e32",
   "metadata": {},
   "source": [
    "<b>Part 3: Showing final Output\n",
    "\n",
    "Create a function final-output which must combine the outputs of part1 & part2<br>\n",
    "    \n",
    "Expected output:\n",
    "<ACER,CRUZ,56.65>\n",
    "<JASON,KENDRICK,97.1>\n"
   ]
  },
  {
   "cell_type": "code",
   "execution_count": 80,
   "id": "a7ad69de",
   "metadata": {},
   "outputs": [
    {
     "name": "stdout",
     "output_type": "stream",
     "text": [
      "<ACER,CRUZ,56.65>\n",
      "<JASON,KENDRICK,97.10>\n"
     ]
    }
   ],
   "source": [
    "# Question 7 Part 3\n",
    "def email_to_full_name(email):\n",
    "    first_name, last_name = email.split(\".\")[0], email.split(\".\")[1].split(\"@\")[0]\n",
    "    return f\"{last_name.upper()},{first_name.upper()}\"\n",
    "\n",
    "def score_average(s):\n",
    "    scores = s.split(\",\")\n",
    "    total = 0\n",
    "    for score in scores:\n",
    "        total += float(score)\n",
    "    return total/len(scores)\n",
    "\n",
    "def final_output(email, scores):\n",
    "    full_name = email_to_full_name(email)\n",
    "    average = score_average(scores)\n",
    "    return f\"<{full_name},{average:.2f}>\"\n",
    "\n",
    "inputs = [('cruz.acer@mymail.bayan.edu', '0,50.4,80.3,95.9'), \n",
    "          ('Kendrick.jason@mymail.bayan.edu', '99.9,91.3,99.2,98.0')]\n",
    "for email, scores in inputs:\n",
    "    print(final_output(email, scores))"
   ]
  },
  {
   "cell_type": "markdown",
   "id": "022f50b4",
   "metadata": {},
   "source": [
    "# Question 8:\n",
    "Write a function “prime-factorize”  that will print the prime factors of an integer 0<𝑛<500<n<50. It should print the message, Out of range! if the input number is out of the given range. Include 1 in the prime factorization."
   ]
  },
  {
   "cell_type": "code",
   "execution_count": 8,
   "id": "2efeb234",
   "metadata": {},
   "outputs": [
    {
     "name": "stdout",
     "output_type": "stream",
     "text": [
      "17\n",
      "[1, 17]\n",
      "\n",
      "0\n",
      "Out of range!\n",
      "\n",
      "100\n",
      "Out of range!\n",
      "\n"
     ]
    }
   ],
   "source": [
    "def prime_factorize(n):\n",
    "    if not (0 < n < 50 < 500):\n",
    "        print(\"Out of range!\")\n",
    "        return\n",
    "    factors = []\n",
    "    for i in range(1, n+1):\n",
    "        if n % i == 0:\n",
    "            is_prime = True\n",
    "            for j in range(2, i):\n",
    "                if i % j == 0:\n",
    "                    is_prime = False\n",
    "                    break\n",
    "            if is_prime:\n",
    "                factors.append(i)\n",
    "    print(factors)\n",
    "\n",
    "inputs = [17, 0, 100]\n",
    "for number in inputs:\n",
    "    print(number)\n",
    "    prime_factorize(number)\n",
    "    print(\"\")"
   ]
  },
  {
   "cell_type": "code",
   "execution_count": null,
   "id": "91ca3f44",
   "metadata": {},
   "outputs": [],
   "source": []
  }
 ],
 "metadata": {
  "kernelspec": {
   "display_name": "Python 3 (ipykernel)",
   "language": "python",
   "name": "python3"
  },
  "language_info": {
   "codemirror_mode": {
    "name": "ipython",
    "version": 3
   },
   "file_extension": ".py",
   "mimetype": "text/x-python",
   "name": "python",
   "nbconvert_exporter": "python",
   "pygments_lexer": "ipython3",
   "version": "3.9.13"
  }
 },
 "nbformat": 4,
 "nbformat_minor": 5
}
